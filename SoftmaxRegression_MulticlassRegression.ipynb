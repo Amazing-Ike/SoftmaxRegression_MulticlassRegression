{
 "cells": [
  {
   "cell_type": "markdown",
   "id": "26537f6c-7a8f-4204-a6a6-b641fe1b1c2e",
   "metadata": {},
   "source": [
    "Softmax Regression ,One-vs-All & One-vs-One for Multi-class Classification\n",
    "\n",
    "\n",
    "In this lab, we will study how to convert a linear classifier into a multi-class classifier, including multinomial logistic regression or softmax regression, One vs. All (One-vs-Rest) and One vs. One\n",
    "\n",
    "Objectives\n",
    "After completing this lab you will be able to:\n",
    "\n",
    "Understand and apply some theory behind:\n",
    "Softmax regression\n",
    "One vs. All (One-vs-Rest)\n",
    "One vs. One\n",
    "Introduction\n",
    "In Multi-class classification, we classify data into multiple class labels . Unlike classification trees and k-nearest neighbour, the concept of Multi-class classification for linear classifiers is not as straightforward. We can convert logistic regression to Multi-class classification using multinomial logistic regression or softmax regression; this is a generalization of logistic regression, this will not work for support vector machines. One vs. All (One-vs-Rest) and One vs. One are two other multi-class classification techniques can covert any two-class classifier to a multi-class classifier.\n",
    "\n"
   ]
  },
  {
   "cell_type": "markdown",
   "id": "a0cad8fc-98eb-4638-a316-d1bfd4bc128f",
   "metadata": {},
   "source": [
    "Install and Import the required libraries\n",
    "\n",
    "For this lab, we are going to be using several Python libraries such as scit-learn, numpy and matplotlib for visualizations. "
   ]
  },
  {
   "cell_type": "code",
   "execution_count": 17,
   "id": "a7be76e5-6e99-46c3-a88a-674a26200e78",
   "metadata": {
    "tags": []
   },
   "outputs": [],
   "source": [
    "import numpy as np\n",
    "import matplotlib.pyplot as plt\n",
    "from sklearn import datasets\n",
    "from sklearn.svm import SVC\n",
    "from sklearn.linear_model import LogisticRegression\n",
    "from sklearn.metrics import accuracy_score\n",
    "import pandas as pd\n",
    "import warnings\n",
    "warnings.filterwarnings('ignore')"
   ]
  },
  {
   "cell_type": "markdown",
   "id": "24c9425f-3e73-4aa2-9e79-dc3d6c051c96",
   "metadata": {},
   "source": [
    "Utility Function¶\n",
    "\n",
    "This functions Plots different decision boundary"
   ]
  },
  {
   "cell_type": "code",
   "execution_count": 2,
   "id": "5f87ec5c-a7ec-4304-ba4e-7247251bd836",
   "metadata": {
    "tags": []
   },
   "outputs": [],
   "source": [
    "plot_colors = \"ryb\"\n",
    "plot_step = 0.02\n",
    "\n",
    "def decision_boundary (X,y,model,iris, two=None):\n",
    "    x_min, x_max = X[:, 0].min() - 1, X[:, 0].max() + 1\n",
    "    y_min, y_max = X[:, 1].min() - 1, X[:, 1].max() + 1\n",
    "    xx, yy = np.meshgrid(np.arange(x_min, x_max, plot_step),\n",
    "                         np.arange(y_min, y_max, plot_step))\n",
    "    plt.tight_layout(h_pad=0.5, w_pad=0.5, pad=2.5)\n",
    "    \n",
    "    Z = model.predict(np.c_[xx.ravel(), yy.ravel()])\n",
    "    Z = Z.reshape(xx.shape)\n",
    "    cs = plt.contourf(xx, yy, Z,cmap=plt.cm.RdYlBu)\n",
    "    \n",
    "    if two:\n",
    "        cs = plt.contourf(xx, yy, Z,cmap=plt.cm.RdYlBu)\n",
    "        for i, color in zip(np.unique(y), plot_colors):\n",
    "            \n",
    "            idx = np.where( y== i)\n",
    "            plt.scatter(X[idx, 0], X[idx, 1], label=y,cmap=plt.cm.RdYlBu, s=15)\n",
    "        plt.show()\n",
    "  \n",
    "    else:\n",
    "        set_={0,1,2}\n",
    "        print(set_)\n",
    "        for i, color in zip(range(3), plot_colors):\n",
    "            idx = np.where( y== i)\n",
    "            if np.any(idx):\n",
    "\n",
    "                set_.remove(i)\n",
    "\n",
    "                plt.scatter(X[idx, 0], X[idx, 1], label=y,cmap=plt.cm.RdYlBu, edgecolor='black', s=15)\n",
    "\n",
    "\n",
    "        for  i in set_:\n",
    "            idx = np.where( iris.target== i)\n",
    "            plt.scatter(X[idx, 0], X[idx, 1], marker='x',color='black')\n",
    "\n",
    "        plt.show()\n"
   ]
  },
  {
   "cell_type": "markdown",
   "id": "bf0dcca9-1b3a-4e80-8815-e4967f19acb4",
   "metadata": {},
   "source": [
    "This function will plot the probability of belonging to each class; each column is the probability of belonging to a class the row number is the sample number."
   ]
  },
  {
   "cell_type": "code",
   "execution_count": 4,
   "id": "fb86ed5f-0f18-4db7-8021-394933135639",
   "metadata": {
    "tags": []
   },
   "outputs": [],
   "source": [
    "def plot_probability_array(X,probability_array):\n",
    "    plot_array=np.zeros((X.shape[0],30))\n",
    "    col_start=0\n",
    "    ones=np.ones((X.shape[0],30))\n",
    "    for class_,col_end in enumerate([10,20,30]):\n",
    "        plot_array[:,col_start:col_end]= np.repeat(probability_array[:,class_].reshape(-1,1), 10,axis=1)\n",
    "        col_start=col_end\n",
    "    plt.imshow(plot_array)\n",
    "    plt.xticks([])\n",
    "    plt.ylabel(\"samples\")\n",
    "    plt.xlabel(\"probability of 3 classes\")\n",
    "    plt.colorbar()\n",
    "    plt.show()"
   ]
  },
  {
   "cell_type": "markdown",
   "id": "569e2562-ae66-44ee-a4b1-0521496f68f1",
   "metadata": {},
   "source": [
    "In ths lab we will use the iris dataset, it consists of 3 different types of irises’ (Setosa y=0, Versicolour y=1, and Virginica y=2) petal and sepal length, stored in a 150x4 numpy.ndarray\n",
    "\n",
    "The rows being the samples and the columns being: Sepal Length, Sepal Width, Petal Length and Petal Width.\n",
    "\n",
    "The below plot uses the secoond two features"
   ]
  },
  {
   "cell_type": "code",
   "execution_count": 5,
   "id": "ef24e7f7-7524-4871-a35e-e4b512b5d171",
   "metadata": {
    "tags": []
   },
   "outputs": [
    {
     "data": {
      "text/plain": [
       "array([0, 1, 2])"
      ]
     },
     "execution_count": 5,
     "metadata": {},
     "output_type": "execute_result"
    }
   ],
   "source": [
    "pair=[1, 3]\n",
    "iris = datasets.load_iris()\n",
    "X = iris.data[:, pair]\n",
    "y = iris.target\n",
    "np.unique(y)"
   ]
  },
  {
   "cell_type": "code",
   "execution_count": 6,
   "id": "86c52310-64b2-40f6-896f-8fa88fb040d8",
   "metadata": {
    "tags": []
   },
   "outputs": [
    {
     "data": {
      "image/png": "[encoded data removed]",
      "text/plain": [
       "<Figure size 640x480 with 1 Axes>"
      ]
     },
     "metadata": {},
     "output_type": "display_data"
    }
   ],
   "source": [
    "plt.scatter(X[:, 0], X[:, 1], c=y, cmap=plt.cm.RdYlBu)\n",
    "plt.xlabel(\"sepal width (cm)\")\n",
    "plt.ylabel(\"petal width\")\n",
    "plt.show()"
   ]
  },
  {
   "cell_type": "markdown",
   "id": "e8db3676-40fb-433d-9d6d-69aafeff782a",
   "metadata": {},
   "source": [
    "Softmax Regression\n",
    "\n",
    "SoftMax regression is similar to logistic regression, the softmax function convernts the actual distances i.e. dot products of  \n",
    "x\n",
    "  with each of the parameters  \n",
    "θ\n",
    "i\n",
    "  for the  \n",
    "K\n",
    "  classes. \n",
    "\n",
    " \n",
    "The training procedure is almost identical to logistic regression. Consider the three-class example where  \n",
    "y\n",
    "∈\n",
    "{\n",
    "0\n",
    ",\n",
    "1\n",
    ",\n",
    "2\n",
    "}\n",
    "  we would like to classify  \n",
    "x\n",
    "1\n",
    " . We can use the softmax function to generate a probability of how likely the sample belongs to each class:\n",
    "\n",
    "[\n",
    "s\n",
    "o\n",
    "f\n",
    "t\n",
    "m\n",
    "a\n",
    "x\n",
    "(\n",
    "x\n",
    "1\n",
    ",\n",
    "0\n",
    ")\n",
    ",\n",
    "s\n",
    "o\n",
    "f\n",
    "t\n",
    "m\n",
    "a\n",
    "x\n",
    "(\n",
    "x\n",
    "1\n",
    ",\n",
    "1\n",
    ")\n",
    ",\n",
    "s\n",
    "o\n",
    "f\n",
    "t\n",
    "m\n",
    "a\n",
    "x\n",
    "(\n",
    "x\n",
    "1\n",
    ",\n",
    "2\n",
    ")\n",
    "]\n",
    "=\n",
    "[\n",
    "0.97\n",
    ",\n",
    "0.2\n",
    ",\n",
    "0.1\n",
    "]\n",
    " \n",
    "The index of each probability is the same as the class. We can make a prediction using the argmax function:\n",
    "\n",
    "^\n",
    "y\n",
    "=\n",
    "a\n",
    "r\n",
    "g\n",
    "m\n",
    "a\n",
    "x\n",
    "i\n",
    "{\n",
    "s\n",
    "o\n",
    "f\n",
    "t\n",
    "m\n",
    "a\n",
    "x\n",
    "(\n",
    "x\n",
    ",\n",
    "i\n",
    ")\n",
    "}\n",
    " \n",
    "For the above example, we can make a prediction as follows:\n",
    "\n",
    "^\n",
    "y\n",
    "=\n",
    "a\n",
    "r\n",
    "g\n",
    "m\n",
    "a\n",
    "x\n",
    "i\n",
    "{\n",
    "[\n",
    "0.97\n",
    ",\n",
    "0.2\n",
    ",\n",
    "0.1\n",
    "]\n",
    "}\n",
    "=\n",
    "0\n",
    " \n",
    "sklearn does this automatically, but we can verify the prediction step, we fit the model:"
   ]
  },
  {
   "cell_type": "code",
   "execution_count": 7,
   "id": "484a5867-d023-4cc0-827e-f831b1b7bb95",
   "metadata": {
    "tags": []
   },
   "outputs": [],
   "source": [
    "lr = LogisticRegression(random_state=0).fit(X, y)"
   ]
  },
  {
   "cell_type": "markdown",
   "id": "6c070298-57bc-4046-bbd0-b65f0a551d7c",
   "metadata": {},
   "source": [
    "We generate the probability using the method predict_proba"
   ]
  },
  {
   "cell_type": "code",
   "execution_count": 8,
   "id": "94cd967c-c10b-4624-b446-61311a308460",
   "metadata": {
    "tags": []
   },
   "outputs": [],
   "source": [
    "probability=lr.predict_proba(X)"
   ]
  },
  {
   "cell_type": "markdown",
   "id": "8c484d40-db1e-4a6b-afe2-ec645ab661f2",
   "metadata": {},
   "source": [
    "We can plot the probability of belonging to each class; each column is the probability of belonging to a class the row number is the sample number."
   ]
  },
  {
   "cell_type": "markdown",
   "id": "02ba7160-6076-4357-8463-93b248b0a104",
   "metadata": {},
   "source": [
    "plot_probability_array(X,probability)"
   ]
  },
  {
   "cell_type": "markdown",
   "id": "b117d8f7-d15a-4304-9abe-f536632e48ee",
   "metadata": {},
   "source": [
    "Here is the output for the first sample:"
   ]
  },
  {
   "cell_type": "code",
   "execution_count": 9,
   "id": "0c1dc9e1-e64f-457b-9ea5-09f8097b7f80",
   "metadata": {
    "tags": []
   },
   "outputs": [
    {
     "data": {
      "text/plain": [
       "array([9.57671606e-01, 4.22321095e-02, 9.62845517e-05])"
      ]
     },
     "execution_count": 9,
     "metadata": {},
     "output_type": "execute_result"
    }
   ],
   "source": [
    "probability[0,:]"
   ]
  },
  {
   "cell_type": "markdown",
   "id": "43ce1482-504a-4c85-a0d9-52cdf4bab890",
   "metadata": {},
   "source": [
    "we see it sums to one"
   ]
  },
  {
   "cell_type": "code",
   "execution_count": 10,
   "id": "0dab818a-553b-495f-b541-b16d0d212757",
   "metadata": {
    "tags": []
   },
   "outputs": [
    {
     "data": {
      "text/plain": [
       "1.0"
      ]
     },
     "execution_count": 10,
     "metadata": {},
     "output_type": "execute_result"
    }
   ],
   "source": [
    "probability[0,:].sum()"
   ]
  },
  {
   "cell_type": "markdown",
   "id": "125877f9-915d-4e4e-b6c9-b4608d641fc0",
   "metadata": {},
   "source": [
    "we can apply the  \n",
    "a\n",
    "r\n",
    "g\n",
    "m\n",
    "a\n",
    "x\n",
    "  function"
   ]
  },
  {
   "cell_type": "code",
   "execution_count": 11,
   "id": "00a0529f-7bfb-4596-867b-1e671b3ae58b",
   "metadata": {
    "tags": []
   },
   "outputs": [
    {
     "data": {
      "text/plain": [
       "0"
      ]
     },
     "execution_count": 11,
     "metadata": {},
     "output_type": "execute_result"
    }
   ],
   "source": [
    "np.argmax(probability[0,:])"
   ]
  },
  {
   "cell_type": "markdown",
   "id": "c1ce75ae-f55a-4966-a648-7d3d643fa847",
   "metadata": {},
   "source": [
    "We can apply the  \n",
    "a\n",
    "r\n",
    "g\n",
    "m\n",
    "a\n",
    "x\n",
    "  function to each sample"
   ]
  },
  {
   "cell_type": "code",
   "execution_count": 12,
   "id": "da2ec917-ae28-4778-9540-122bd98ffece",
   "metadata": {
    "tags": []
   },
   "outputs": [
    {
     "data": {
      "text/plain": [
       "array([0, 0, 0, 0, 0, 0, 0, 0, 0, 0, 0, 0, 0, 0, 0, 0, 0, 0, 0, 0, 0, 0,\n",
       "       0, 0, 0, 0, 0, 0, 0, 0, 0, 0, 0, 0, 0, 0, 0, 0, 0, 0, 0, 0, 0, 0,\n",
       "       0, 0, 0, 0, 0, 0, 1, 1, 1, 1, 1, 1, 1, 1, 1, 1, 1, 1, 1, 1, 1, 1,\n",
       "       1, 1, 1, 1, 2, 1, 1, 1, 1, 1, 1, 2, 1, 1, 1, 1, 1, 1, 1, 1, 1, 1,\n",
       "       1, 1, 1, 1, 1, 1, 1, 1, 1, 1, 1, 1, 2, 2, 2, 2, 2, 2, 2, 2, 2, 2,\n",
       "       2, 2, 2, 2, 2, 2, 2, 2, 2, 1, 2, 2, 2, 2, 2, 2, 2, 2, 2, 1, 2, 2,\n",
       "       2, 1, 1, 2, 2, 2, 2, 2, 2, 2, 2, 2, 2, 2, 2, 2, 2, 2], dtype=int64)"
      ]
     },
     "execution_count": 12,
     "metadata": {},
     "output_type": "execute_result"
    }
   ],
   "source": [
    "softmax_prediction=np.argmax(probability,axis=1)\n",
    "softmax_prediction"
   ]
  },
  {
   "cell_type": "markdown",
   "id": "6eac920a-13e3-4650-982d-869e0e441d74",
   "metadata": {},
   "source": [
    "We can verify that sklearn does this under the hood by comparing it to the output of the method  predict  ."
   ]
  },
  {
   "cell_type": "code",
   "execution_count": 13,
   "id": "1f6bb8a8-2398-463f-bd91-2817f7e02bfa",
   "metadata": {
    "tags": []
   },
   "outputs": [
    {
     "data": {
      "text/plain": [
       "1.0"
      ]
     },
     "execution_count": 13,
     "metadata": {},
     "output_type": "execute_result"
    }
   ],
   "source": [
    "yhat =lr.predict(X)\n",
    "accuracy_score(yhat,softmax_prediction)"
   ]
  },
  {
   "cell_type": "markdown",
   "id": "bfa9d7f0-c833-4f4d-b24b-9e265baca281",
   "metadata": {},
   "source": [
    "We can't use Softmax regression for SVMs let explore two methods of Multi-class Classification. that we can apply to SVM."
   ]
  },
  {
   "cell_type": "markdown",
   "id": "90e02302-078a-4ce5-a979-d5b6463b95b5",
   "metadata": {},
   "source": [
    "SVM\n",
    "\n",
    "Sklean performs Multi-class Classification automatically, we can apply the method and calculate the accuracy. Train a SVM classifier with the kernel set to linear, gamma set to 0.5, and the probability paramter set to True, then train the model using the X and y data."
   ]
  },
  {
   "cell_type": "code",
   "execution_count": 14,
   "id": "3cb7284e-a34f-4ab4-8537-35e6439ffe8c",
   "metadata": {
    "tags": []
   },
   "outputs": [
    {
     "data": {
      "text/html": [
       "<style>#sk-container-id-1 {color: black;}#sk-container-id-1 pre{padding: 0;}#sk-container-id-1 div.sk-toggleable {background-color: white;}#sk-container-id-1 label.sk-toggleable__label {cursor: pointer;display: block;width: 100%;margin-bottom: 0;padding: 0.3em;box-sizing: border-box;text-align: center;}#sk-container-id-1 label.sk-toggleable__label-arrow:before {content: \"▸\";float: left;margin-right: 0.25em;color: #696969;}#sk-container-id-1 label.sk-toggleable__label-arrow:hover:before {color: black;}#sk-container-id-1 div.sk-estimator:hover label.sk-toggleable__label-arrow:before {color: black;}#sk-container-id-1 div.sk-toggleable__content {max-height: 0;max-width: 0;overflow: hidden;text-align: left;background-color: #f0f8ff;}#sk-container-id-1 div.sk-toggleable__content pre {margin: 0.2em;color: black;border-radius: 0.25em;background-color: #f0f8ff;}#sk-container-id-1 input.sk-toggleable__control:checked~div.sk-toggleable__content {max-height: 200px;max-width: 100%;overflow: auto;}#sk-container-id-1 input.sk-toggleable__control:checked~label.sk-toggleable__label-arrow:before {content: \"▾\";}#sk-container-id-1 div.sk-estimator input.sk-toggleable__control:checked~label.sk-toggleable__label {background-color: #d4ebff;}#sk-container-id-1 div.sk-label input.sk-toggleable__control:checked~label.sk-toggleable__label {background-color: #d4ebff;}#sk-container-id-1 input.sk-hidden--visually {border: 0;clip: rect(1px 1px 1px 1px);clip: rect(1px, 1px, 1px, 1px);height: 1px;margin: -1px;overflow: hidden;padding: 0;position: absolute;width: 1px;}#sk-container-id-1 div.sk-estimator {font-family: monospace;background-color: #f0f8ff;border: 1px dotted black;border-radius: 0.25em;box-sizing: border-box;margin-bottom: 0.5em;}#sk-container-id-1 div.sk-estimator:hover {background-color: #d4ebff;}#sk-container-id-1 div.sk-parallel-item::after {content: \"\";width: 100%;border-bottom: 1px solid gray;flex-grow: 1;}#sk-container-id-1 div.sk-label:hover label.sk-toggleable__label {background-color: #d4ebff;}#sk-container-id-1 div.sk-serial::before {content: \"\";position: absolute;border-left: 1px solid gray;box-sizing: border-box;top: 0;bottom: 0;left: 50%;z-index: 0;}#sk-container-id-1 div.sk-serial {display: flex;flex-direction: column;align-items: center;background-color: white;padding-right: 0.2em;padding-left: 0.2em;position: relative;}#sk-container-id-1 div.sk-item {position: relative;z-index: 1;}#sk-container-id-1 div.sk-parallel {display: flex;align-items: stretch;justify-content: center;background-color: white;position: relative;}#sk-container-id-1 div.sk-item::before, #sk-container-id-1 div.sk-parallel-item::before {content: \"\";position: absolute;border-left: 1px solid gray;box-sizing: border-box;top: 0;bottom: 0;left: 50%;z-index: -1;}#sk-container-id-1 div.sk-parallel-item {display: flex;flex-direction: column;z-index: 1;position: relative;background-color: white;}#sk-container-id-1 div.sk-parallel-item:first-child::after {align-self: flex-end;width: 50%;}#sk-container-id-1 div.sk-parallel-item:last-child::after {align-self: flex-start;width: 50%;}#sk-container-id-1 div.sk-parallel-item:only-child::after {width: 0;}#sk-container-id-1 div.sk-dashed-wrapped {border: 1px dashed gray;margin: 0 0.4em 0.5em 0.4em;box-sizing: border-box;padding-bottom: 0.4em;background-color: white;}#sk-container-id-1 div.sk-label label {font-family: monospace;font-weight: bold;display: inline-block;line-height: 1.2em;}#sk-container-id-1 div.sk-label-container {text-align: center;}#sk-container-id-1 div.sk-container {/* jupyter's `normalize.less` sets `[hidden] { display: none; }` but bootstrap.min.css set `[hidden] { display: none !important; }` so we also need the `!important` here to be able to override the default hidden behavior on the sphinx rendered scikit-learn.org. See: https://github.com/scikit-learn/scikit-learn/issues/21755 */display: inline-block !important;position: relative;}#sk-container-id-1 div.sk-text-repr-fallback {display: none;}</style><div id=\"sk-container-id-1\" class=\"sk-top-container\"><div class=\"sk-text-repr-fallback\"><pre>SVC(gamma=0.5, kernel=&#x27;linear&#x27;, probability=True)</pre><b>In a Jupyter environment, please rerun this cell to show the HTML representation or trust the notebook. <br />On GitHub, the HTML representation is unable to render, please try loading this page with nbviewer.org.</b></div><div class=\"sk-container\" hidden><div class=\"sk-item\"><div class=\"sk-estimator sk-toggleable\"><input class=\"sk-toggleable__control sk-hidden--visually\" id=\"sk-estimator-id-1\" type=\"checkbox\" checked><label for=\"sk-estimator-id-1\" class=\"sk-toggleable__label sk-toggleable__label-arrow\">SVC</label><div class=\"sk-toggleable__content\"><pre>SVC(gamma=0.5, kernel=&#x27;linear&#x27;, probability=True)</pre></div></div></div></div></div>"
      ],
      "text/plain": [
       "SVC(gamma=0.5, kernel='linear', probability=True)"
      ]
     },
     "execution_count": 14,
     "metadata": {},
     "output_type": "execute_result"
    }
   ],
   "source": [
    "model = SVC(kernel='linear', gamma=.5, probability=True)\n",
    "\n",
    "model.fit(X,y)"
   ]
  },
  {
   "cell_type": "markdown",
   "id": "aa9dec82-95a0-4e5b-97ca-1e07a91f6f20",
   "metadata": {},
   "source": [
    "Find the accuracy_score on the training data"
   ]
  },
  {
   "cell_type": "code",
   "execution_count": 15,
   "id": "adb21612-da9e-481b-a26d-8516211dbb2e",
   "metadata": {
    "tags": []
   },
   "outputs": [
    {
     "data": {
      "text/plain": [
       "0.96"
      ]
     },
     "execution_count": 15,
     "metadata": {},
     "output_type": "execute_result"
    }
   ],
   "source": [
    "yhat = model.predict(X)\n",
    "\n",
    "accuracy_score(y,yhat)"
   ]
  },
  {
   "cell_type": "markdown",
   "id": "2eedf976-199f-4489-88a8-b4882bbfed5b",
   "metadata": {},
   "source": [
    "We can plot the decision_boundary."
   ]
  },
  {
   "cell_type": "code",
   "execution_count": 18,
   "id": "41599db5-03b4-4065-8318-faa67918c53a",
   "metadata": {
    "tags": []
   },
   "outputs": [
    {
     "name": "stdout",
     "output_type": "stream",
     "text": [
      "{0, 1, 2}\n"
     ]
    },
    {
     "data": {
      "image/png": "[encoded data removed]",
      "text/plain": [
       "<Figure size 640x480 with 1 Axes>"
      ]
     },
     "metadata": {},
     "output_type": "display_data"
    }
   ],
   "source": [
    "decision_boundary (X,y,model,iris)"
   ]
  },
  {
   "cell_type": "markdown",
   "id": "b2fbbd13-b962-4d04-a07e-cf643d5881af",
   "metadata": {},
   "source": [
    "Let's implement on vs One vs. All and One vs. One our self's."
   ]
  },
  {
   "cell_type": "markdown",
   "id": "2600830f-b729-4a7b-8f1d-6898f4c3d124",
   "metadata": {},
   "source": [
    "One vs. All (One-vs-Rest)\n",
    "\n",
    "For one-vs-All classification, if we have K classes, we use K two-class classifier models—the number of class labels present in the dataset is equal to the number of generated classifiers. First, we create an artificial class we will call this \"dummy\" class. For each classifier, we split the data into two classes. We take the class samples we would like to classify; the rest of the samples will be labelled as a dummy class. We repeat the process for each class. To make a classification, we use the classifier with the highest probability, disregarding the dummy class."
   ]
  },
  {
   "cell_type": "markdown",
   "id": "02b65fa2-f4a8-4da9-9039-d0a501715495",
   "metadata": {},
   "source": [
    "Train Each Classifier\n",
    "\n",
    "Here we train three classifiers and place them in the list my_models. For each class we take the class samples we would like to classify, and the rest will be labelled as a dummy class. We repeat the process for each class. For each classifier, we plot the decision regions. The class we are interested in is in red, and the dummy class is in blue. Similarly, the class samples are marked in blue, and the dummy samples are marked with a black x."
   ]
  },
  {
   "cell_type": "code",
   "execution_count": 19,
   "id": "2cc7e234-5312-4184-ac31-045885c0169d",
   "metadata": {
    "tags": []
   },
   "outputs": [
    {
     "name": "stdout",
     "output_type": "stream",
     "text": [
      "{0, 1, 2}\n"
     ]
    },
    {
     "data": {
      "image/png": "[encoded data removed]",
      "text/plain": [
       "<Figure size 640x480 with 1 Axes>"
      ]
     },
     "metadata": {},
     "output_type": "display_data"
    },
    {
     "name": "stdout",
     "output_type": "stream",
     "text": [
      "{0, 1, 2}\n"
     ]
    },
    {
     "data": {
      "image/png": "[encoded data removed]",
      "text/plain": [
       "<Figure size 640x480 with 1 Axes>"
      ]
     },
     "metadata": {},
     "output_type": "display_data"
    },
    {
     "name": "stdout",
     "output_type": "stream",
     "text": [
      "{0, 1, 2}\n"
     ]
    },
    {
     "data": {
      "image/png": "[encoded data removed]",
      "text/plain": [
       "<Figure size 640x480 with 1 Axes>"
      ]
     },
     "metadata": {},
     "output_type": "display_data"
    }
   ],
   "source": [
    "#dummy class\n",
    "dummy_class=y.max()+1\n",
    "#list used for classifiers \n",
    "my_models=[]\n",
    "#iterate through each class\n",
    "for class_ in np.unique(y):\n",
    "    #select the index of our  class\n",
    "    select=(y==class_)\n",
    "    temp_y=np.zeros(y.shape)\n",
    "    #class, we are trying to classify \n",
    "    temp_y[y==class_]=class_\n",
    "    #set other samples  to a dummy class \n",
    "    temp_y[y!=class_]=dummy_class\n",
    "    #Train model and add to list \n",
    "    model=SVC(kernel='linear', gamma=.5, probability=True)    \n",
    "    my_models.append(model.fit(X,temp_y))\n",
    "    #plot decision boundary \n",
    "    decision_boundary (X,temp_y,model,iris)"
   ]
  },
  {
   "cell_type": "markdown",
   "id": "b10c2b02-0a3f-4643-8006-1141d39ebcfc",
   "metadata": {},
   "source": [
    "For each sample we calculate the probability of belonging to each class, not including the dummy class."
   ]
  },
  {
   "cell_type": "code",
   "execution_count": 20,
   "id": "13b03273-abb0-497f-9494-4865c5708222",
   "metadata": {
    "tags": []
   },
   "outputs": [],
   "source": [
    "probability_array=np.zeros((X.shape[0],3))\n",
    "for j,model in enumerate(my_models):\n",
    "\n",
    "    real_class=np.where(np.array(model.classes_)!=3)[0]\n",
    "\n",
    "    probability_array[:,j]=model.predict_proba(X)[:,real_class][:,0]"
   ]
  },
  {
   "cell_type": "markdown",
   "id": "03456129-dff9-4b1c-822a-d2f976746f5c",
   "metadata": {},
   "source": [
    "here is the probability of belonging to each class for the first sample."
   ]
  },
  {
   "cell_type": "code",
   "execution_count": 21,
   "id": "93252ceb-519d-4623-aa46-ff8a6c69adee",
   "metadata": {
    "tags": []
   },
   "outputs": [
    {
     "data": {
      "text/plain": [
       "array([9.91599532e-01, 1.28449083e-01, 1.06045958e-11])"
      ]
     },
     "execution_count": 21,
     "metadata": {},
     "output_type": "execute_result"
    }
   ],
   "source": [
    "probability_array[0,:]"
   ]
  },
  {
   "cell_type": "markdown",
   "id": "618a4d9e-8df7-4cc7-ad39-4bd96818a83c",
   "metadata": {},
   "source": [
    "As each is the probability of belonging to the actual class and not the dummy class is does not sum to one."
   ]
  },
  {
   "cell_type": "code",
   "execution_count": 22,
   "id": "d71bba23-a9d4-4493-a4b7-ceb25769100c",
   "metadata": {
    "tags": []
   },
   "outputs": [
    {
     "data": {
      "text/plain": [
       "1.1200486149716449"
      ]
     },
     "execution_count": 22,
     "metadata": {},
     "output_type": "execute_result"
    }
   ],
   "source": [
    "probability_array[0,:].sum()"
   ]
  },
  {
   "cell_type": "markdown",
   "id": "1587e8d7-1831-4be0-97b0-1d18264ec1c4",
   "metadata": {},
   "source": [
    "We can plot the probability of belonging to the class. The row number is the sample number."
   ]
  },
  {
   "cell_type": "code",
   "execution_count": 23,
   "id": "454f72b5-6af7-4078-be24-79abbeef70b8",
   "metadata": {
    "tags": []
   },
   "outputs": [
    {
     "data": {
      "image/png": "[encoded data removed]",
      "text/plain": [
       "<Figure size 640x480 with 2 Axes>"
      ]
     },
     "metadata": {},
     "output_type": "display_data"
    }
   ],
   "source": [
    "plot_probability_array(X,probability_array)"
   ]
  },
  {
   "cell_type": "markdown",
   "id": "3657fa8f-da38-433e-a333-fbf41a05a432",
   "metadata": {},
   "source": [
    "We can apply the  \n",
    "a\n",
    "r\n",
    "g\n",
    "m\n",
    "a\n",
    "x\n",
    "  function to each sample to find the class"
   ]
  },
  {
   "cell_type": "code",
   "execution_count": 24,
   "id": "a29e9ce5-f1dc-4d09-a4bd-91caa9362aaf",
   "metadata": {
    "tags": []
   },
   "outputs": [
    {
     "data": {
      "text/plain": [
       "array([0, 0, 0, 0, 0, 0, 0, 0, 0, 0, 0, 0, 0, 0, 0, 0, 0, 0, 0, 0, 0, 0,\n",
       "       0, 0, 0, 0, 0, 0, 0, 0, 0, 0, 0, 0, 0, 0, 0, 0, 0, 0, 0, 1, 0, 0,\n",
       "       0, 0, 0, 0, 0, 0, 1, 1, 1, 1, 1, 1, 2, 1, 1, 1, 1, 1, 1, 1, 1, 1,\n",
       "       1, 1, 1, 1, 2, 1, 1, 1, 1, 1, 1, 2, 1, 1, 1, 1, 1, 1, 1, 2, 1, 1,\n",
       "       1, 1, 1, 1, 1, 1, 1, 1, 1, 1, 1, 1, 2, 2, 2, 2, 2, 2, 2, 2, 2, 2,\n",
       "       2, 2, 2, 2, 2, 2, 2, 2, 2, 1, 2, 2, 2, 2, 2, 2, 2, 2, 2, 2, 2, 2,\n",
       "       2, 1, 1, 2, 2, 2, 2, 2, 2, 2, 2, 2, 2, 2, 2, 2, 2, 2], dtype=int64)"
      ]
     },
     "execution_count": 24,
     "metadata": {},
     "output_type": "execute_result"
    }
   ],
   "source": [
    "one_vs_all=np.argmax(probability_array,axis=1)\n",
    "one_vs_all"
   ]
  },
  {
   "cell_type": "markdown",
   "id": "acf29760-9415-4f62-bc95-c9fc005c9c4e",
   "metadata": {},
   "source": [
    "we can calculate the accuracy"
   ]
  },
  {
   "cell_type": "code",
   "execution_count": 25,
   "id": "eb408999-90b9-433c-9557-d1ef418449e5",
   "metadata": {
    "tags": []
   },
   "outputs": [
    {
     "data": {
      "text/plain": [
       "0.9466666666666667"
      ]
     },
     "execution_count": 25,
     "metadata": {},
     "output_type": "execute_result"
    }
   ],
   "source": [
    "accuracy_score(y,one_vs_all)"
   ]
  },
  {
   "cell_type": "markdown",
   "id": "6dfbc5a2-5ee0-4e66-a22d-cd4c13486db4",
   "metadata": {},
   "source": [
    "We see the accuracy is less than the one obtained by sklearn, and this is because for SVM sklearn uses one vs one; let's verify it by comparing the outputs"
   ]
  },
  {
   "cell_type": "code",
   "execution_count": 26,
   "id": "32aff136-3406-4307-808a-c00bfc9af132",
   "metadata": {
    "tags": []
   },
   "outputs": [
    {
     "data": {
      "text/plain": [
       "0.9733333333333334"
      ]
     },
     "execution_count": 26,
     "metadata": {},
     "output_type": "execute_result"
    }
   ],
   "source": [
    "accuracy_score(one_vs_all,yhat)"
   ]
  },
  {
   "cell_type": "markdown",
   "id": "1938320d-5ccc-4bf8-9a89-e117a69d970f",
   "metadata": {},
   "source": [
    "we see that the output are different, now lets implement one vs one"
   ]
  },
  {
   "cell_type": "markdown",
   "id": "400592ef-0f56-4994-bbc5-762661f5e1a8",
   "metadata": {},
   "source": [
    "One vs One\n",
    "In One-vs-One classification, we split up the data into each class; we then train a two-class classifier on each pair of classes. For example, if we have class 0,1,2, we would train one classifier on the samples that are class 0 and class 1, a second classifier on samples that are of class 0 and class 2 and a final classifier on samples of class 1 and class 2."
   ]
  },
  {
   "cell_type": "markdown",
   "id": "85c6019c-436f-4d2f-842b-f75ea32404c7",
   "metadata": {},
   "source": [
    "To perform classification on a sample, we perform a majority vote and select the class with the most predictions.\n",
    "\n",
    "here we list each class."
   ]
  },
  {
   "cell_type": "code",
   "execution_count": 27,
   "id": "ec19c72f-02dc-4902-9e93-1780c1b54988",
   "metadata": {
    "tags": []
   },
   "outputs": [
    {
     "data": {
      "text/plain": [
       "{0, 1, 2}"
      ]
     },
     "execution_count": 27,
     "metadata": {},
     "output_type": "execute_result"
    }
   ],
   "source": [
    "classes_=set(np.unique(y))\n",
    "classes_\n",
    "   "
   ]
  },
  {
   "cell_type": "markdown",
   "id": "cbc5658a-9a5e-43b0-bede-70b966233cd4",
   "metadata": {},
   "source": [
    "determine the number of classifiers:"
   ]
  },
  {
   "cell_type": "code",
   "execution_count": 28,
   "id": "1ffb9b03-3a14-428b-9614-f80aadbd9565",
   "metadata": {
    "tags": []
   },
   "outputs": [
    {
     "data": {
      "text/plain": [
       "3.0"
      ]
     },
     "execution_count": 28,
     "metadata": {},
     "output_type": "execute_result"
    }
   ],
   "source": [
    "K=len(classes_)\n",
    "K*(K-1)/2"
   ]
  },
  {
   "cell_type": "markdown",
   "id": "d7b3c3dc-0229-4dd3-98f8-d0b9bcc973ae",
   "metadata": {},
   "source": [
    "\n",
    "We then train a two-class classifier on each pair of classes. We plot the different training points for each of the two classes"
   ]
  },
  {
   "cell_type": "code",
   "execution_count": 29,
   "id": "0f18852e-1d40-4d9f-a7c6-0b18e8cbb993",
   "metadata": {
    "tags": []
   },
   "outputs": [
    {
     "name": "stdout",
     "output_type": "stream",
     "text": [
      "class 0 vs class 1 \n"
     ]
    },
    {
     "data": {
      "image/png": "[encoded data removed]",
      "text/plain": [
       "<Figure size 640x480 with 1 Axes>"
      ]
     },
     "metadata": {},
     "output_type": "display_data"
    },
    {
     "name": "stdout",
     "output_type": "stream",
     "text": [
      "class 0 vs class 2 \n"
     ]
    },
    {
     "data": {
      "image/png": "[encoded data removed]",
      "text/plain": [
       "<Figure size 640x480 with 1 Axes>"
      ]
     },
     "metadata": {},
     "output_type": "display_data"
    },
    {
     "name": "stdout",
     "output_type": "stream",
     "text": [
      "class 1 vs class 2 \n"
     ]
    },
    {
     "data": {
      "image/png": "[encoded data removed]",
      "text/plain": [
       "<Figure size 640x480 with 1 Axes>"
      ]
     },
     "metadata": {},
     "output_type": "display_data"
    }
   ],
   "source": [
    "pairs=[]\n",
    "left_overs=classes_.copy()\n",
    "#list used for classifiers \n",
    "my_models=[]\n",
    "#iterate through each class\n",
    "for class_ in classes_:\n",
    "    #remove class we have seen before \n",
    "    left_overs.remove(class_)\n",
    "    #the second class in the pair\n",
    "    for second_class in left_overs:\n",
    "        pairs.append(str(class_)+' and '+str(second_class))\n",
    "        print(\"class {} vs class {} \".format(class_,second_class) )\n",
    "        temp_y=np.zeros(y.shape)\n",
    "        #find classes in pair \n",
    "        select=np.logical_or(y==class_ , y==second_class)\n",
    "        #train model \n",
    "        model=SVC(kernel='linear', gamma=.5, probability=True)  \n",
    "        model.fit(X[select,:],y[select])\n",
    "        my_models.append(model)\n",
    "        #Plot decision boundary for each pair and corresponding Training samples. \n",
    "        decision_boundary (X[select,:],y[select],model,iris,two=True)"
   ]
  },
  {
   "cell_type": "code",
   "execution_count": 30,
   "id": "38fc13e6-2d56-4e7e-a729-5d6b27e46a7f",
   "metadata": {
    "tags": []
   },
   "outputs": [
    {
     "data": {
      "text/plain": [
       "['0 and 1', '0 and 2', '1 and 2']"
      ]
     },
     "execution_count": 30,
     "metadata": {},
     "output_type": "execute_result"
    }
   ],
   "source": [
    "pairs"
   ]
  },
  {
   "cell_type": "markdown",
   "id": "05bfc704-d01e-4f0b-a3e5-8d96f2aca402",
   "metadata": {},
   "source": [
    "As we can see, our data is left-skewed, containing greater number of '5' star reviews.\n",
    "\n",
    "Here, we are plotting the distribution of text length."
   ]
  },
  {
   "cell_type": "code",
   "execution_count": 31,
   "id": "8a15047a-2b11-4509-bcec-837da174e63f",
   "metadata": {
    "tags": []
   },
   "outputs": [],
   "source": [
    "pairs\n",
    "majority_vote_array=np.zeros((X.shape[0],3))\n",
    "majority_vote_dict={}\n",
    "for j,(model,pair) in enumerate(zip(my_models,pairs)):\n",
    "\n",
    "    majority_vote_dict[pair]=model.predict(X)\n",
    "    majority_vote_array[:,j]=model.predict(X)"
   ]
  },
  {
   "cell_type": "markdown",
   "id": "900eafac-c1da-4fe1-a803-6b48756127e1",
   "metadata": {},
   "source": [
    "In the following table, each column is the output of a classifier for each pair of classes; the output is the prediction:"
   ]
  },
  {
   "cell_type": "code",
   "execution_count": 32,
   "id": "5855be37-74c1-4791-9a49-b981c0836b50",
   "metadata": {
    "tags": []
   },
   "outputs": [
    {
     "data": {
      "text/html": [
       "<div>\n",
       "<style scoped>\n",
       "    .dataframe tbody tr th:only-of-type {\n",
       "        vertical-align: middle;\n",
       "    }\n",
       "\n",
       "    .dataframe tbody tr th {\n",
       "        vertical-align: top;\n",
       "    }\n",
       "\n",
       "    .dataframe thead th {\n",
       "        text-align: right;\n",
       "    }\n",
       "</style>\n",
       "<table border=\"1\" class=\"dataframe\">\n",
       "  <thead>\n",
       "    <tr style=\"text-align: right;\">\n",
       "      <th></th>\n",
       "      <th>0 and 1</th>\n",
       "      <th>0 and 2</th>\n",
       "      <th>1 and 2</th>\n",
       "    </tr>\n",
       "  </thead>\n",
       "  <tbody>\n",
       "    <tr>\n",
       "      <th>0</th>\n",
       "      <td>0</td>\n",
       "      <td>0</td>\n",
       "      <td>1</td>\n",
       "    </tr>\n",
       "    <tr>\n",
       "      <th>1</th>\n",
       "      <td>0</td>\n",
       "      <td>0</td>\n",
       "      <td>1</td>\n",
       "    </tr>\n",
       "    <tr>\n",
       "      <th>2</th>\n",
       "      <td>0</td>\n",
       "      <td>0</td>\n",
       "      <td>1</td>\n",
       "    </tr>\n",
       "    <tr>\n",
       "      <th>3</th>\n",
       "      <td>0</td>\n",
       "      <td>0</td>\n",
       "      <td>1</td>\n",
       "    </tr>\n",
       "    <tr>\n",
       "      <th>4</th>\n",
       "      <td>0</td>\n",
       "      <td>0</td>\n",
       "      <td>1</td>\n",
       "    </tr>\n",
       "    <tr>\n",
       "      <th>5</th>\n",
       "      <td>0</td>\n",
       "      <td>0</td>\n",
       "      <td>1</td>\n",
       "    </tr>\n",
       "    <tr>\n",
       "      <th>6</th>\n",
       "      <td>0</td>\n",
       "      <td>0</td>\n",
       "      <td>1</td>\n",
       "    </tr>\n",
       "    <tr>\n",
       "      <th>7</th>\n",
       "      <td>0</td>\n",
       "      <td>0</td>\n",
       "      <td>1</td>\n",
       "    </tr>\n",
       "    <tr>\n",
       "      <th>8</th>\n",
       "      <td>0</td>\n",
       "      <td>0</td>\n",
       "      <td>1</td>\n",
       "    </tr>\n",
       "    <tr>\n",
       "      <th>9</th>\n",
       "      <td>0</td>\n",
       "      <td>0</td>\n",
       "      <td>1</td>\n",
       "    </tr>\n",
       "  </tbody>\n",
       "</table>\n",
       "</div>"
      ],
      "text/plain": [
       "   0 and 1  0 and 2  1 and 2\n",
       "0        0        0        1\n",
       "1        0        0        1\n",
       "2        0        0        1\n",
       "3        0        0        1\n",
       "4        0        0        1\n",
       "5        0        0        1\n",
       "6        0        0        1\n",
       "7        0        0        1\n",
       "8        0        0        1\n",
       "9        0        0        1"
      ]
     },
     "execution_count": 32,
     "metadata": {},
     "output_type": "execute_result"
    }
   ],
   "source": [
    "pd.DataFrame(majority_vote_dict).head(10)"
   ]
  },
  {
   "cell_type": "markdown",
   "id": "abf130bb-538c-4c16-a275-dc630013ae15",
   "metadata": {},
   "source": [
    "To perform classification on a sample, we perform a majority vote i.e. select the class with the most predictions. We repeat the process for each sample. "
   ]
  },
  {
   "cell_type": "code",
   "execution_count": 33,
   "id": "a23ba199-53de-42ca-b376-4868b276f35a",
   "metadata": {
    "tags": []
   },
   "outputs": [
    {
     "data": {
      "text/plain": [
       "array([0, 0, 0, 0, 0, 0, 0, 0, 0, 0, 0, 0, 0, 0, 0, 0, 0, 0, 0, 0, 0, 0,\n",
       "       0, 0, 0, 0, 0, 0, 0, 0, 0, 0, 0, 0, 0, 0, 0, 0, 0, 0, 0, 0, 0, 0,\n",
       "       0, 0, 0, 0, 0, 0, 1, 1, 1, 1, 1, 1, 1, 1, 1, 1, 1, 1, 1, 1, 1, 1,\n",
       "       1, 1, 1, 1, 2, 1, 1, 1, 1, 1, 1, 2, 1, 1, 1, 1, 1, 1, 1, 1, 1, 1,\n",
       "       1, 1, 1, 1, 1, 1, 1, 1, 1, 1, 1, 1, 2, 2, 2, 2, 2, 2, 2, 2, 2, 2,\n",
       "       2, 2, 2, 2, 2, 2, 2, 2, 2, 1, 2, 2, 2, 2, 2, 2, 2, 2, 2, 1, 2, 2,\n",
       "       2, 1, 1, 2, 2, 2, 2, 2, 2, 2, 2, 2, 2, 2, 2, 2, 2, 2], dtype=int64)"
      ]
     },
     "execution_count": 33,
     "metadata": {},
     "output_type": "execute_result"
    }
   ],
   "source": [
    "one_vs_one=np.array([np.bincount(sample.astype(int)).argmax() for sample  in majority_vote_array]) \n",
    "one_vs_one"
   ]
  },
  {
   "cell_type": "markdown",
   "id": "8ec49540-3be2-4ec3-bd0c-2c85cf0b5559",
   "metadata": {},
   "source": [
    "We calculate the accuracy:"
   ]
  },
  {
   "cell_type": "code",
   "execution_count": 34,
   "id": "9c67320b-3fe6-40de-90f8-cd87241a3185",
   "metadata": {
    "tags": []
   },
   "outputs": [
    {
     "data": {
      "text/plain": [
       "0.96"
      ]
     },
     "execution_count": 34,
     "metadata": {},
     "output_type": "execute_result"
    }
   ],
   "source": [
    "accuracy_score(y,one_vs_one)"
   ]
  },
  {
   "cell_type": "markdown",
   "id": "802b71dc-1fb2-4a43-9b44-c490f3882bb5",
   "metadata": {},
   "source": [
    "we compare it to sklearn , it's the same!"
   ]
  },
  {
   "cell_type": "code",
   "execution_count": 35,
   "id": "8e3af3e0-087c-4756-9e74-8a7e40ca3ce0",
   "metadata": {
    "tags": []
   },
   "outputs": [
    {
     "data": {
      "text/plain": [
       "1.0"
      ]
     },
     "execution_count": 35,
     "metadata": {},
     "output_type": "execute_result"
    }
   ],
   "source": [
    "accuracy_score(yhat,one_vs_one)"
   ]
  },
  {
   "cell_type": "code",
   "execution_count": null,
   "id": "a4e8f591-1d2d-4d48-b2a8-0e206ed9ee0c",
   "metadata": {},
   "outputs": [],
   "source": []
  }
 ],
 "metadata": {
  "kernelspec": {
   "display_name": "Python 3 (ipykernel)",
   "language": "python",
   "name": "python3"
  },
  "language_info": {
   "codemirror_mode": {
    "name": "ipython",
    "version": 3
   },
   "file_extension": ".py",
   "mimetype": "text/x-python",
   "name": "python",
   "nbconvert_exporter": "python",
   "pygments_lexer": "ipython3",
   "version": "3.11.4"
  }
 },
 "nbformat": 4,
 "nbformat_minor": 5
}
